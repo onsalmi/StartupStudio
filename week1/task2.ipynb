{
 "cells": [
  {
   "cell_type": "code",
   "execution_count": 2,
   "metadata": {},
   "outputs": [],
   "source": [
    "import numpy as np\n",
    "import pandas as pd"
   ]
  },
  {
   "cell_type": "code",
   "execution_count": 3,
   "metadata": {},
   "outputs": [
    {
     "data": {
      "text/html": [
       "<div>\n",
       "<style scoped>\n",
       "    .dataframe tbody tr th:only-of-type {\n",
       "        vertical-align: middle;\n",
       "    }\n",
       "\n",
       "    .dataframe tbody tr th {\n",
       "        vertical-align: top;\n",
       "    }\n",
       "\n",
       "    .dataframe thead th {\n",
       "        text-align: right;\n",
       "    }\n",
       "</style>\n",
       "<table border=\"1\" class=\"dataframe\">\n",
       "  <thead>\n",
       "    <tr style=\"text-align: right;\">\n",
       "      <th></th>\n",
       "      <th>user_id</th>\n",
       "      <th>transaction_id</th>\n",
       "      <th>transaction_date</th>\n",
       "      <th>transaction_time</th>\n",
       "      <th>store</th>\n",
       "      <th>product_name</th>\n",
       "      <th>quantity</th>\n",
       "      <th>unit_price</th>\n",
       "      <th>total_price</th>\n",
       "      <th>total_amount</th>\n",
       "      <th>total_items</th>\n",
       "    </tr>\n",
       "  </thead>\n",
       "  <tbody>\n",
       "    <tr>\n",
       "      <th>0</th>\n",
       "      <td>1</td>\n",
       "      <td>1</td>\n",
       "      <td>1403-01-01</td>\n",
       "      <td>23:38:58</td>\n",
       "      <td>Jewelry Store</td>\n",
       "      <td>Jewelry Store Product 38</td>\n",
       "      <td>1</td>\n",
       "      <td>1658456.89</td>\n",
       "      <td>1658456.89</td>\n",
       "      <td>1658456.89</td>\n",
       "      <td>1</td>\n",
       "    </tr>\n",
       "    <tr>\n",
       "      <th>1</th>\n",
       "      <td>1</td>\n",
       "      <td>2</td>\n",
       "      <td>1403-01-02</td>\n",
       "      <td>16:41:29</td>\n",
       "      <td>Electronics Store</td>\n",
       "      <td>Electronics Store Product 82</td>\n",
       "      <td>1</td>\n",
       "      <td>1462060.36</td>\n",
       "      <td>1462060.36</td>\n",
       "      <td>1462060.36</td>\n",
       "      <td>1</td>\n",
       "    </tr>\n",
       "    <tr>\n",
       "      <th>2</th>\n",
       "      <td>1</td>\n",
       "      <td>3</td>\n",
       "      <td>1403-01-03</td>\n",
       "      <td>07:45:32</td>\n",
       "      <td>Cosmetics Store</td>\n",
       "      <td>Cosmetics Store Product 26</td>\n",
       "      <td>1</td>\n",
       "      <td>105516.10</td>\n",
       "      <td>105516.10</td>\n",
       "      <td>323033.43</td>\n",
       "      <td>2</td>\n",
       "    </tr>\n",
       "    <tr>\n",
       "      <th>3</th>\n",
       "      <td>1</td>\n",
       "      <td>3</td>\n",
       "      <td>1403-01-03</td>\n",
       "      <td>07:45:32</td>\n",
       "      <td>Cosmetics Store</td>\n",
       "      <td>Cosmetics Store Product 17</td>\n",
       "      <td>1</td>\n",
       "      <td>217517.33</td>\n",
       "      <td>217517.33</td>\n",
       "      <td>323033.43</td>\n",
       "      <td>2</td>\n",
       "    </tr>\n",
       "    <tr>\n",
       "      <th>4</th>\n",
       "      <td>1</td>\n",
       "      <td>4</td>\n",
       "      <td>1403-01-04</td>\n",
       "      <td>15:22:12</td>\n",
       "      <td>Hardware Store</td>\n",
       "      <td>Hardware Store Product 40</td>\n",
       "      <td>1</td>\n",
       "      <td>1949500.13</td>\n",
       "      <td>1949500.13</td>\n",
       "      <td>6191593.89</td>\n",
       "      <td>6</td>\n",
       "    </tr>\n",
       "  </tbody>\n",
       "</table>\n",
       "</div>"
      ],
      "text/plain": [
       "   user_id  transaction_id transaction_date transaction_time  \\\n",
       "0        1               1       1403-01-01         23:38:58   \n",
       "1        1               2       1403-01-02         16:41:29   \n",
       "2        1               3       1403-01-03         07:45:32   \n",
       "3        1               3       1403-01-03         07:45:32   \n",
       "4        1               4       1403-01-04         15:22:12   \n",
       "\n",
       "               store                  product_name  quantity  unit_price  \\\n",
       "0      Jewelry Store      Jewelry Store Product 38         1  1658456.89   \n",
       "1  Electronics Store  Electronics Store Product 82         1  1462060.36   \n",
       "2    Cosmetics Store    Cosmetics Store Product 26         1   105516.10   \n",
       "3    Cosmetics Store    Cosmetics Store Product 17         1   217517.33   \n",
       "4     Hardware Store     Hardware Store Product 40         1  1949500.13   \n",
       "\n",
       "   total_price  total_amount  total_items  \n",
       "0   1658456.89    1658456.89            1  \n",
       "1   1462060.36    1462060.36            1  \n",
       "2    105516.10     323033.43            2  \n",
       "3    217517.33     323033.43            2  \n",
       "4   1949500.13    6191593.89            6  "
      ]
     },
     "execution_count": 3,
     "metadata": {},
     "output_type": "execute_result"
    }
   ],
   "source": [
    "data = pd.read_csv(\"./Stores_Transactions.csv\")\n",
    "data.head()"
   ]
  },
  {
   "cell_type": "code",
   "execution_count": 12,
   "metadata": {},
   "outputs": [],
   "source": [
    "from convertdate import persian\n",
    "\n",
    "def convert_to_gregorian(persian_date):\n",
    "    year, month, day = map(int, persian_date.split('-'))\n",
    "    # استفاده از تابع صحیح برای تبدیل تاریخ شمسی به میلادی\n",
    "    return persian.to_gregorian(year, month, day)\n",
    "\n",
    "# تبدیل تاریخ‌ها به میلادی\n",
    "data['transaction_date'] = data['transaction_date'].apply(convert_to_gregorian)\n",
    "\n",
    "# تبدیل به فرمت مناسب pandas datetime\n",
    "data['transaction_date'] = pd.to_datetime(data['transaction_date'].apply(lambda x: '-'.join(map(str, x))), format='%Y-%m-%d')\n",
    "\n"
   ]
  },
  {
   "cell_type": "code",
   "execution_count": 13,
   "metadata": {},
   "outputs": [
    {
     "data": {
      "text/html": [
       "<div>\n",
       "<style scoped>\n",
       "    .dataframe tbody tr th:only-of-type {\n",
       "        vertical-align: middle;\n",
       "    }\n",
       "\n",
       "    .dataframe tbody tr th {\n",
       "        vertical-align: top;\n",
       "    }\n",
       "\n",
       "    .dataframe thead th {\n",
       "        text-align: right;\n",
       "    }\n",
       "</style>\n",
       "<table border=\"1\" class=\"dataframe\">\n",
       "  <thead>\n",
       "    <tr style=\"text-align: right;\">\n",
       "      <th></th>\n",
       "      <th>user_id</th>\n",
       "      <th>transaction_id</th>\n",
       "      <th>transaction_date</th>\n",
       "      <th>transaction_time</th>\n",
       "      <th>store</th>\n",
       "      <th>product_name</th>\n",
       "      <th>quantity</th>\n",
       "      <th>unit_price</th>\n",
       "      <th>total_price</th>\n",
       "      <th>total_amount</th>\n",
       "      <th>total_items</th>\n",
       "    </tr>\n",
       "  </thead>\n",
       "  <tbody>\n",
       "    <tr>\n",
       "      <th>0</th>\n",
       "      <td>1</td>\n",
       "      <td>1</td>\n",
       "      <td>2024-03-20</td>\n",
       "      <td>23:38:58</td>\n",
       "      <td>Jewelry Store</td>\n",
       "      <td>Jewelry Store Product 38</td>\n",
       "      <td>1</td>\n",
       "      <td>1658456.89</td>\n",
       "      <td>1658456.89</td>\n",
       "      <td>1658456.89</td>\n",
       "      <td>1</td>\n",
       "    </tr>\n",
       "    <tr>\n",
       "      <th>1</th>\n",
       "      <td>1</td>\n",
       "      <td>2</td>\n",
       "      <td>2024-03-21</td>\n",
       "      <td>16:41:29</td>\n",
       "      <td>Electronics Store</td>\n",
       "      <td>Electronics Store Product 82</td>\n",
       "      <td>1</td>\n",
       "      <td>1462060.36</td>\n",
       "      <td>1462060.36</td>\n",
       "      <td>1462060.36</td>\n",
       "      <td>1</td>\n",
       "    </tr>\n",
       "    <tr>\n",
       "      <th>2</th>\n",
       "      <td>1</td>\n",
       "      <td>3</td>\n",
       "      <td>2024-03-22</td>\n",
       "      <td>07:45:32</td>\n",
       "      <td>Cosmetics Store</td>\n",
       "      <td>Cosmetics Store Product 26</td>\n",
       "      <td>1</td>\n",
       "      <td>105516.10</td>\n",
       "      <td>105516.10</td>\n",
       "      <td>323033.43</td>\n",
       "      <td>2</td>\n",
       "    </tr>\n",
       "    <tr>\n",
       "      <th>3</th>\n",
       "      <td>1</td>\n",
       "      <td>3</td>\n",
       "      <td>2024-03-22</td>\n",
       "      <td>07:45:32</td>\n",
       "      <td>Cosmetics Store</td>\n",
       "      <td>Cosmetics Store Product 17</td>\n",
       "      <td>1</td>\n",
       "      <td>217517.33</td>\n",
       "      <td>217517.33</td>\n",
       "      <td>323033.43</td>\n",
       "      <td>2</td>\n",
       "    </tr>\n",
       "    <tr>\n",
       "      <th>4</th>\n",
       "      <td>1</td>\n",
       "      <td>4</td>\n",
       "      <td>2024-03-23</td>\n",
       "      <td>15:22:12</td>\n",
       "      <td>Hardware Store</td>\n",
       "      <td>Hardware Store Product 40</td>\n",
       "      <td>1</td>\n",
       "      <td>1949500.13</td>\n",
       "      <td>1949500.13</td>\n",
       "      <td>6191593.89</td>\n",
       "      <td>6</td>\n",
       "    </tr>\n",
       "  </tbody>\n",
       "</table>\n",
       "</div>"
      ],
      "text/plain": [
       "   user_id  transaction_id transaction_date transaction_time  \\\n",
       "0        1               1       2024-03-20         23:38:58   \n",
       "1        1               2       2024-03-21         16:41:29   \n",
       "2        1               3       2024-03-22         07:45:32   \n",
       "3        1               3       2024-03-22         07:45:32   \n",
       "4        1               4       2024-03-23         15:22:12   \n",
       "\n",
       "               store                  product_name  quantity  unit_price  \\\n",
       "0      Jewelry Store      Jewelry Store Product 38         1  1658456.89   \n",
       "1  Electronics Store  Electronics Store Product 82         1  1462060.36   \n",
       "2    Cosmetics Store    Cosmetics Store Product 26         1   105516.10   \n",
       "3    Cosmetics Store    Cosmetics Store Product 17         1   217517.33   \n",
       "4     Hardware Store     Hardware Store Product 40         1  1949500.13   \n",
       "\n",
       "   total_price  total_amount  total_items  \n",
       "0   1658456.89    1658456.89            1  \n",
       "1   1462060.36    1462060.36            1  \n",
       "2    105516.10     323033.43            2  \n",
       "3    217517.33     323033.43            2  \n",
       "4   1949500.13    6191593.89            6  "
      ]
     },
     "execution_count": 13,
     "metadata": {},
     "output_type": "execute_result"
    }
   ],
   "source": [
    "data.head()"
   ]
  },
  {
   "cell_type": "code",
   "execution_count": 42,
   "metadata": {},
   "outputs": [
    {
     "name": "stdout",
     "output_type": "stream",
     "text": [
      "user_id                 0\n",
      "transaction_id          0\n",
      "transaction_date        0\n",
      "transaction_time        0\n",
      "store                   0\n",
      "product_name            0\n",
      "quantity                0\n",
      "unit_price              0\n",
      "total_price             0\n",
      "total_amount            0\n",
      "total_items             0\n",
      "day_of_week             0\n",
      "hour_of_day             0\n",
      "transaction_datetime    0\n",
      "dtype: int64\n"
     ]
    }
   ],
   "source": [
    "data['transaction_time'] = pd.to_datetime(data['transaction_time'], format='%H:%M:%S').dt.time\n",
    "\n",
    "print(data.isnull().sum())\n"
   ]
  },
  {
   "cell_type": "code",
   "execution_count": 34,
   "metadata": {},
   "outputs": [
    {
     "data": {
      "text/plain": [
       "day_of_week\n",
       "Friday       1148\n",
       "Monday       1124\n",
       "Saturday     1320\n",
       "Sunday       1116\n",
       "Thursday     1080\n",
       "Tuesday      1164\n",
       "Wednesday    1240\n",
       "Name: transaction_id, dtype: int64"
      ]
     },
     "execution_count": 34,
     "metadata": {},
     "output_type": "execute_result"
    }
   ],
   "source": [
    "# استخراج روز هفته و ساعت از تاریخ و زمان\n",
    "data['day_of_week'] = data['transaction_date'].dt.day_name()\n",
    "\n",
    "\n",
    "# تعداد خریدها در روزهای مختلف هفته\n",
    "day_of_week_sales = data.groupby('day_of_week')['transaction_id'].count()\n",
    "\n",
    "\n",
    "day_of_week_sales\n"
   ]
  },
  {
   "cell_type": "code",
   "execution_count": 41,
   "metadata": {},
   "outputs": [
    {
     "name": "stdout",
     "output_type": "stream",
     "text": [
      "بیشترین تعداد خرید در روز Saturday با 1320 خرید انجام شده است.\n"
     ]
    }
   ],
   "source": [
    "# پیدا کردن روز هفته با بیشترین تعداد خرید\n",
    "max_sales_day = day_of_week_sales.idxmax()\n",
    "\n",
    "# تعداد خریدها در آن روز\n",
    "max_sales_count = day_of_week_sales.max()\n",
    "\n",
    "print(f\"بیشترین تعداد خرید در روز {max_sales_day} با {max_sales_count} خرید انجام شده است.\")\n"
   ]
  },
  {
   "cell_type": "code",
   "execution_count": 38,
   "metadata": {},
   "outputs": [
    {
     "data": {
      "text/plain": [
       "hour_of_day\n",
       "0     362\n",
       "1     323\n",
       "2     355\n",
       "3     349\n",
       "4     360\n",
       "5     348\n",
       "6     383\n",
       "7     338\n",
       "8     307\n",
       "9     393\n",
       "10    299\n",
       "11    340\n",
       "12    349\n",
       "13    357\n",
       "14    300\n",
       "15    258\n",
       "16    311\n",
       "17    391\n",
       "18    328\n",
       "19    338\n",
       "20    320\n",
       "21    378\n",
       "22    348\n",
       "23    357\n",
       "Name: transaction_id, dtype: int64"
      ]
     },
     "execution_count": 38,
     "metadata": {},
     "output_type": "execute_result"
    }
   ],
   "source": [
    "data['hour_of_day'] = data['transaction_time'].apply(lambda x: x.hour)\n",
    "# تعداد خریدها در ساعت‌های مختلف روز\n",
    "hour_of_day_sales = data.groupby('hour_of_day')['transaction_id'].count()\n",
    "hour_of_day_sales\n",
    "\n"
   ]
  },
  {
   "cell_type": "code",
   "execution_count": 40,
   "metadata": {},
   "outputs": [
    {
     "name": "stdout",
     "output_type": "stream",
     "text": [
      "بیشترین تعداد خرید در ساعت 9 با 393 خرید انجام شده است.\n"
     ]
    }
   ],
   "source": [
    "# پیدا کردن ساعت با بیشترین تعداد خرید\n",
    "max_sales_hour = hour_of_day_sales.idxmax()\n",
    "\n",
    "# تعداد خریدها در آن ساعت\n",
    "max_sales_count = hour_of_day_sales.max()\n",
    "\n",
    "print(f\"بیشترین تعداد خرید در ساعت {max_sales_hour} با {max_sales_count} خرید انجام شده است.\")\n"
   ]
  },
  {
   "cell_type": "code",
   "execution_count": 16,
   "metadata": {},
   "outputs": [
    {
     "data": {
      "text/plain": [
       "store\n",
       "Bookstore               2.135477e+08\n",
       "Chain Store             8.477238e+08\n",
       "Clothing Store          1.476769e+09\n",
       "Cosmetics Store         3.563268e+08\n",
       "Electronics Store       3.855097e+09\n",
       "Florist Store           1.181164e+08\n",
       "Furniture Store         1.389610e+09\n",
       "Hardware Store          9.986125e+08\n",
       "Home Appliance Store    4.831257e+09\n",
       "Jewelry Store           1.226038e+10\n",
       "Music Store             9.247326e+07\n",
       "Pet Store               2.898425e+08\n",
       "Sporting Goods Store    5.665938e+08\n",
       "Supermarket             3.942086e+08\n",
       "Toy Store               3.754816e+08\n",
       "Name: total_price, dtype: float64"
      ]
     },
     "execution_count": 16,
     "metadata": {},
     "output_type": "execute_result"
    }
   ],
   "source": [
    "# مجموع فروش‌ها در هر فروشگاه\n",
    "store_sales = data.groupby('store')['total_price'].sum()\n",
    "\n",
    "store_sales\n"
   ]
  },
  {
   "cell_type": "code",
   "execution_count": 17,
   "metadata": {},
   "outputs": [
    {
     "data": {
      "text/plain": [
       "store\n",
       "Bookstore               394\n",
       "Chain Store             776\n",
       "Clothing Store          585\n",
       "Cosmetics Store         556\n",
       "Electronics Store       425\n",
       "Florist Store           716\n",
       "Furniture Store         377\n",
       "Hardware Store          511\n",
       "Home Appliance Store    335\n",
       "Jewelry Store           365\n",
       "Music Store             518\n",
       "Pet Store               549\n",
       "Sporting Goods Store    516\n",
       "Supermarket             973\n",
       "Toy Store               596\n",
       "Name: transaction_id, dtype: int64"
      ]
     },
     "execution_count": 17,
     "metadata": {},
     "output_type": "execute_result"
    }
   ],
   "source": [
    "# تعداد تراکنش‌ها در هر فروشگاه\n",
    "store_transactions = data.groupby('store')['transaction_id'].count()\n",
    "\n",
    "store_transactions\n"
   ]
  },
  {
   "cell_type": "code",
   "execution_count": 18,
   "metadata": {},
   "outputs": [
    {
     "name": "stdout",
     "output_type": "stream",
     "text": [
      "product_name\n",
      "Jewelry Store Product 32    5.322176e+08\n",
      "Jewelry Store Product 23    5.078559e+08\n",
      "Jewelry Store Product 24    4.947495e+08\n",
      "Jewelry Store Product 35    4.577688e+08\n",
      "Jewelry Store Product 31    4.078780e+08\n",
      "Name: total_price, dtype: float64\n"
     ]
    }
   ],
   "source": [
    "# مجموع فروش برای هر محصول\n",
    "product_sales = data.groupby('product_name')['total_price'].sum()\n",
    "\n",
    "# نمایش پرفروش‌ترین محصولات\n",
    "print(product_sales.sort_values(ascending=False).head())\n"
   ]
  },
  {
   "cell_type": "code",
   "execution_count": 20,
   "metadata": {},
   "outputs": [
    {
     "name": "stdout",
     "output_type": "stream",
     "text": [
      "   user_id   total_price  transaction_id  cluster\n",
      "0        1  2.251340e+09             661        0\n",
      "1        2  2.795794e+09             673        3\n",
      "2        3  2.713384e+09             708        3\n",
      "3        4  1.687042e+09             717        2\n",
      "4        5  2.273373e+09             624        4\n"
     ]
    }
   ],
   "source": [
    "from sklearn.cluster import KMeans\n",
    "from sklearn.preprocessing import StandardScaler\n",
    "\n",
    "# ویژگی‌های مشتریان برای خوشه‌بندی (برای مثال مجموع خرید و تعداد خریدها)\n",
    "customer_features = data.groupby('user_id').agg({'total_price': 'sum', 'transaction_id': 'count'}).reset_index()\n",
    "\n",
    "# نرمال‌سازی ویژگی‌ها\n",
    "scaler = StandardScaler()\n",
    "customer_features_scaled = scaler.fit_transform(customer_features[['total_price', 'transaction_id']])\n",
    "\n",
    "# اعمال الگوریتم KMeans\n",
    "kmeans = KMeans(n_clusters=5)\n",
    "customer_features['cluster'] = kmeans.fit_predict(customer_features_scaled)\n",
    "\n",
    "# نمایش خوشه‌ها\n",
    "print(customer_features.head())\n"
   ]
  },
  {
   "cell_type": "code",
   "execution_count": 21,
   "metadata": {},
   "outputs": [],
   "source": [
    "customer_features = data.groupby('user_id').agg({\n",
    "    'total_price': 'sum',  # مجموع مبلغ خرید\n",
    "    'transaction_id': 'count'  # تعداد تراکنش‌ها\n",
    "}).reset_index()\n",
    "\n",
    "# تغییر نام ستون‌ها برای راحتی\n",
    "customer_features.rename(columns={'transaction_id': 'transaction_count'}, inplace=True)\n",
    "\n",
    "# نرمال‌سازی داده‌ها\n",
    "scaler = StandardScaler()\n",
    "customer_features_scaled = scaler.fit_transform(customer_features[['total_price', 'transaction_count']])\n",
    "\n",
    "# اجرای K-Means با 3 خوشه (می‌توانید تعداد خوشه‌ها را تغییر دهید)\n",
    "kmeans = KMeans(n_clusters=3, random_state=42)\n",
    "customer_features['cluster'] = kmeans.fit_predict(customer_features_scaled)\n"
   ]
  },
  {
   "cell_type": "code",
   "execution_count": 22,
   "metadata": {},
   "outputs": [
    {
     "data": {
      "text/html": [
       "<div>\n",
       "<style scoped>\n",
       "    .dataframe tbody tr th:only-of-type {\n",
       "        vertical-align: middle;\n",
       "    }\n",
       "\n",
       "    .dataframe tbody tr th {\n",
       "        vertical-align: top;\n",
       "    }\n",
       "\n",
       "    .dataframe thead th {\n",
       "        text-align: right;\n",
       "    }\n",
       "</style>\n",
       "<table border=\"1\" class=\"dataframe\">\n",
       "  <thead>\n",
       "    <tr style=\"text-align: right;\">\n",
       "      <th></th>\n",
       "      <th>user_id</th>\n",
       "      <th>total_price</th>\n",
       "      <th>transaction_count</th>\n",
       "      <th>cluster</th>\n",
       "    </tr>\n",
       "  </thead>\n",
       "  <tbody>\n",
       "    <tr>\n",
       "      <th>0</th>\n",
       "      <td>1</td>\n",
       "      <td>2.251340e+09</td>\n",
       "      <td>661</td>\n",
       "      <td>0</td>\n",
       "    </tr>\n",
       "    <tr>\n",
       "      <th>1</th>\n",
       "      <td>2</td>\n",
       "      <td>2.795794e+09</td>\n",
       "      <td>673</td>\n",
       "      <td>2</td>\n",
       "    </tr>\n",
       "    <tr>\n",
       "      <th>2</th>\n",
       "      <td>3</td>\n",
       "      <td>2.713384e+09</td>\n",
       "      <td>708</td>\n",
       "      <td>1</td>\n",
       "    </tr>\n",
       "    <tr>\n",
       "      <th>3</th>\n",
       "      <td>4</td>\n",
       "      <td>1.687042e+09</td>\n",
       "      <td>717</td>\n",
       "      <td>0</td>\n",
       "    </tr>\n",
       "    <tr>\n",
       "      <th>4</th>\n",
       "      <td>5</td>\n",
       "      <td>2.273373e+09</td>\n",
       "      <td>624</td>\n",
       "      <td>0</td>\n",
       "    </tr>\n",
       "  </tbody>\n",
       "</table>\n",
       "</div>"
      ],
      "text/plain": [
       "   user_id   total_price  transaction_count  cluster\n",
       "0        1  2.251340e+09                661        0\n",
       "1        2  2.795794e+09                673        2\n",
       "2        3  2.713384e+09                708        1\n",
       "3        4  1.687042e+09                717        0\n",
       "4        5  2.273373e+09                624        0"
      ]
     },
     "execution_count": 22,
     "metadata": {},
     "output_type": "execute_result"
    }
   ],
   "source": [
    "customer_features.head()"
   ]
  },
  {
   "cell_type": "code",
   "execution_count": 23,
   "metadata": {},
   "outputs": [
    {
     "data": {
      "image/png": "[encoded data removed]",
      "text/plain": [
       "<Figure size 640x480 with 1 Axes>"
      ]
     },
     "metadata": {},
     "output_type": "display_data"
    }
   ],
   "source": [
    "import matplotlib.pyplot as plt\n",
    "\n",
    "# پیدا کردن بهترین تعداد خوشه‌ها با استفاده از روش Elbow\n",
    "inertia = []\n",
    "for k in range(1, 11):\n",
    "    kmeans = KMeans(n_clusters=k, random_state=42)\n",
    "    kmeans.fit(customer_features_scaled)\n",
    "    inertia.append(kmeans.inertia_)\n",
    "\n",
    "# رسم نمودار Elbow\n",
    "plt.plot(range(1, 11), inertia, marker='o')\n",
    "plt.title('Elbow Method')\n",
    "plt.xlabel('Number of clusters (K)')\n",
    "plt.ylabel('Inertia')\n",
    "plt.show()\n"
   ]
  },
  {
   "cell_type": "code",
   "execution_count": 31,
   "metadata": {},
   "outputs": [
    {
     "name": "stdout",
     "output_type": "stream",
     "text": [
      "         user_id   total_price  transaction_id  product_name  total_items  \\\n",
      "cluster                                                                     \n",
      "0            6.5  2.283527e+09           653.0    501.166667  5485.833333   \n",
      "1            6.5  1.760903e+09           703.0    542.000000  6438.500000   \n",
      "2            6.5  2.710768e+09           717.0    551.250000  6524.250000   \n",
      "\n",
      "         average_purchase  avg_time_between_purchases  \n",
      "cluster                                                \n",
      "0            3.497600e+06                28333.311441  \n",
      "1            2.507927e+06                26190.019903  \n",
      "2            3.789379e+06                25866.210750  \n"
     ]
    }
   ],
   "source": [
    "from sklearn.cluster import KMeans\n",
    "from sklearn.preprocessing import StandardScaler\n",
    "import pandas as pd\n",
    "\n",
    "# فرض می‌کنیم که داده‌ها در یک DataFrame به نام 'data' هستند\n",
    "\n",
    "# استخراج ویژگی‌های معنی‌دار برای تحلیل بیشتر\n",
    "customer_features = data.groupby('user_id').agg({\n",
    "    'total_price': 'sum',  # مجموع مبلغ خرید\n",
    "    'transaction_id': 'count',  # تعداد تراکنش‌ها\n",
    "    'product_name': 'nunique',  # تعداد محصولات مختلفی که خریداری کرده‌اند\n",
    "    'total_items': 'sum',  # مجموع تعداد اقلام خریداری‌شده\n",
    "}).reset_index()\n",
    "\n",
    "# محاسبه میانگین مبلغ خرید (total_price / تعداد تراکنش‌ها)\n",
    "customer_features['average_purchase'] = customer_features['total_price'] / customer_features['transaction_id']\n",
    "\n",
    "# تبدیل ستون تاریخ و زمان به رشته و سپس ترکیب آن‌ها\n",
    "data['transaction_datetime'] = pd.to_datetime(data['transaction_date'].astype(str) + ' ' + data['transaction_time'].astype(str))\n",
    "\n",
    "# مرتب کردن داده‌ها بر اساس user_id و transaction_datetime\n",
    "data_sorted = data.sort_values(by=['user_id', 'transaction_datetime'])\n",
    "\n",
    "# محاسبه فاصله زمانی بین خریدها برای هر مشتری\n",
    "data_sorted['time_diff'] = data_sorted.groupby('user_id')['transaction_datetime'].diff().fillna(pd.Timedelta(seconds=0))\n",
    "\n",
    "# محاسبه میانگین فاصله زمانی خریدها\n",
    "purchase_frequency = data_sorted.groupby('user_id')['time_diff'].mean().reset_index()\n",
    "purchase_frequency.rename(columns={'time_diff': 'avg_time_between_purchases'}, inplace=True)\n",
    "\n",
    "# تبدیل فاصله زمانی به ثانیه برای نرمال‌سازی\n",
    "purchase_frequency['avg_time_between_purchases'] = purchase_frequency['avg_time_between_purchases'].dt.total_seconds()\n",
    "\n",
    "# ترکیب دو ویژگی جدید: میانگین فاصله زمانی و ویژگی‌های دیگر\n",
    "customer_features = pd.merge(customer_features, purchase_frequency, on='user_id')\n",
    "\n",
    "# نرمال‌سازی داده‌ها\n",
    "scaler = StandardScaler()\n",
    "scaled_features = scaler.fit_transform(customer_features[['total_price', 'transaction_id', 'product_name', 'average_purchase', 'total_items', 'avg_time_between_purchases']])\n",
    "\n",
    "# اجرای K-Means با 3 خوشه\n",
    "kmeans = KMeans(n_clusters=3, random_state=42)\n",
    "customer_features['cluster'] = kmeans.fit_predict(scaled_features)\n",
    "\n",
    "# بررسی نتایج خوشه‌بندی\n",
    "print(customer_features.groupby('cluster').mean())  # ویژگی‌های متوسط هر خوشه\n"
   ]
  },
  {
   "cell_type": "code",
   "execution_count": null,
   "metadata": {},
   "outputs": [],
   "source": []
  }
 ],
 "metadata": {
  "kernelspec": {
   "display_name": "myenv",
   "language": "python",
   "name": "python3"
  },
  "language_info": {
   "codemirror_mode": {
    "name": "ipython",
    "version": 3
   },
   "file_extension": ".py",
   "mimetype": "text/x-python",
   "name": "python",
   "nbconvert_exporter": "python",
   "pygments_lexer": "ipython3",
   "version": "3.9.6"
  }
 },
 "nbformat": 4,
 "nbformat_minor": 2
}
